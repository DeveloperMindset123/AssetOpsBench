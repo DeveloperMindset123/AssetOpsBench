{
 "cells": [
  {
   "cell_type": "code",
   "execution_count": 1,
   "id": "f5d3df46",
   "metadata": {},
   "outputs": [],
   "source": [
    "import pandas as pd"
   ]
  },
  {
   "cell_type": "code",
   "execution_count": 2,
   "id": "4e66a024",
   "metadata": {},
   "outputs": [],
   "source": [
    "model_id = 18\n",
    "combined_file_path = f\"processed_trajectories/combined_m{model_id}_db.pkl\"\n",
    "df = pd.read_pickle(combined_file_path)\n"
   ]
  },
  {
   "cell_type": "code",
   "execution_count": 3,
   "id": "17ddf55b",
   "metadata": {},
   "outputs": [
    {
     "name": "stdout",
     "output_type": "stream",
     "text": [
      "<class 'pandas.core.frame.DataFrame'>\n",
      "RangeIndex: 881 entries, 0 to 880\n",
      "Data columns (total 22 columns):\n",
      " #   Column                                 Non-Null Count  Dtype \n",
      "---  ------                                 --------------  ----- \n",
      " 0   model_id                               881 non-null    int64 \n",
      " 1   counter                                881 non-null    int64 \n",
      " 2   timestamp                              881 non-null    object\n",
      " 3   vendor                                 881 non-null    object\n",
      " 4   model                                  881 non-null    object\n",
      " 5   ut_id                                  881 non-null    object\n",
      " 6   addi_fm_cnt                            881 non-null    int64 \n",
      " 7   addi_fm_list                           881 non-null    object\n",
      " 8   1.1 Disobey Task Specification         881 non-null    bool  \n",
      " 9   1.2 Disobey Role Specification         881 non-null    bool  \n",
      " 10  1.3 Step Repetition                    881 non-null    bool  \n",
      " 11  1.4 Loss of Conversation History       881 non-null    bool  \n",
      " 12  1.5 Unaware of Termination Conditions  881 non-null    bool  \n",
      " 13  2.1 Conversation Reset                 881 non-null    bool  \n",
      " 14  2.2 Fail to Ask for Clarification      881 non-null    bool  \n",
      " 15  2.3 Task Derailment                    881 non-null    bool  \n",
      " 16  2.4 Information Withholding            881 non-null    bool  \n",
      " 17  2.5 Ignored Other Agent's Input        881 non-null    bool  \n",
      " 18  2.6 Action-Reasoning Mismatch          881 non-null    bool  \n",
      " 19  3.1 Premature Termination              881 non-null    bool  \n",
      " 20  3.2 No or Incorrect Verification       881 non-null    bool  \n",
      " 21  3.3 Weak Verification                  881 non-null    bool  \n",
      "dtypes: bool(14), int64(3), object(5)\n",
      "memory usage: 67.2+ KB\n"
     ]
    }
   ],
   "source": [
    "df.info()"
   ]
  },
  {
   "cell_type": "code",
   "execution_count": 4,
   "id": "c02b0828",
   "metadata": {},
   "outputs": [],
   "source": [
    "failure_mode_keys = [\n",
    "    \"1.1 Disobey Task Specification\",\n",
    "    \"1.2 Disobey Role Specification\",\n",
    "    \"1.3 Step Repetition\",\n",
    "    \"1.4 Loss of Conversation History\",\n",
    "    \"1.5 Unaware of Termination Conditions\",\n",
    "    \"2.1 Conversation Reset\",\n",
    "    \"2.2 Fail to Ask for Clarification\",\n",
    "    \"2.3 Task Derailment\",\n",
    "    \"2.4 Information Withholding\",\n",
    "    \"2.5 Ignored Other Agent's Input\",\n",
    "    \"2.6 Action-Reasoning Mismatch\",\n",
    "    \"3.1 Premature Termination\",\n",
    "    \"3.2 No or Incorrect Verification\",\n",
    "    \"3.3 Weak Verification\",\n",
    "]\n"
   ]
  },
  {
   "cell_type": "code",
   "execution_count": 5,
   "id": "fd6d8068",
   "metadata": {},
   "outputs": [],
   "source": [
    "selected_columns = ['addi_fm_cnt', 'addi_fm_list']\n",
    "df_new_fm = df[df['addi_fm_cnt'] > 0][selected_columns]\n",
    "df_new_fm.reset_index(drop=True, inplace=True)"
   ]
  },
  {
   "cell_type": "code",
   "execution_count": 6,
   "id": "f3554ff0",
   "metadata": {},
   "outputs": [
    {
     "name": "stdout",
     "output_type": "stream",
     "text": [
      "     addi_fm_cnt                                       addi_fm_list\n",
      "0              1  [{'title': 'Repeated Invalid Action Execution'...\n",
      "1              1  [{'title': 'Specification Hallucination', 'des...\n",
      "2              1  [{'title': 'Ineffective Remediation Loop', 'de...\n",
      "3              2  [{'title': 'Inadequate Fallback Reasoning', 'd...\n",
      "4              1  [{'title': 'Hallucinated Sensor Name', 'descri...\n",
      "..           ...                                                ...\n",
      "344            1  [{'title': 'Failure to Utilize Feedback Effect...\n",
      "345            1  [{'title': 'Failure to Escalate After Repeated...\n",
      "346            2  [{'title': 'Repetitive Error Handling without ...\n",
      "347            2  [{'title': 'Ineffective Error Recovery', 'desc...\n",
      "348            1  [{'title': 'Unproductive Error Loop', 'descrip...\n",
      "\n",
      "[349 rows x 2 columns]\n"
     ]
    }
   ],
   "source": [
    "print(df_new_fm)"
   ]
  },
  {
   "cell_type": "code",
   "execution_count": 29,
   "id": "b836e9b8",
   "metadata": {},
   "outputs": [
    {
     "data": {
      "text/plain": [
       "addi_fm_cnt\n",
       "1    185\n",
       "2    164\n",
       "Name: count, dtype: int64"
      ]
     },
     "execution_count": 29,
     "metadata": {},
     "output_type": "execute_result"
    }
   ],
   "source": [
    "df_new_fm['addi_fm_cnt'].value_counts()"
   ]
  },
  {
   "cell_type": "code",
   "execution_count": 7,
   "id": "590cc777",
   "metadata": {},
   "outputs": [
    {
     "name": "stdout",
     "output_type": "stream",
     "text": [
      "addi_fm_cnt                                                                                                                                                                                                                                                                                                                             1\n",
      "addi_fm_list    [{'title': 'Repeated Invalid Action Execution', 'description': 'The agent persistently and unsuccessfully executed the same invalid 'Finish[answer]' action multiple times despite explicit feedback about its invalidity, indicating a lack of corrective behavior mechanism to recover from action selection errors.'}]\n",
      "Name: 0, dtype: object\n"
     ]
    }
   ],
   "source": [
    "# Ensure full column width is printed\n",
    "pd.set_option('display.max_colwidth', None)\n",
    "\n",
    "# Print the first row\n",
    "print(df_new_fm.iloc[0])"
   ]
  },
  {
   "cell_type": "code",
   "execution_count": 8,
   "id": "aa6246bf",
   "metadata": {},
   "outputs": [],
   "source": [
    "# Step 1: Explode the list so each dictionary becomes its own row\n",
    "df_exploded = df_new_fm.explode('addi_fm_list', ignore_index=True)\n",
    "\n",
    "# Step 2: Normalize the dictionary into separate columns\n",
    "df_expanded = pd.concat([\n",
    "    df_exploded.drop(columns=['addi_fm_list']),\n",
    "    pd.json_normalize(df_exploded['addi_fm_list'])\n",
    "], axis=1)\n",
    "\n",
    "# Optional: Reset index if needed\n",
    "df_expanded.reset_index(drop=True, inplace=True)\n"
   ]
  },
  {
   "cell_type": "code",
   "execution_count": 9,
   "id": "af105ed7",
   "metadata": {},
   "outputs": [
    {
     "data": {
      "text/plain": [
       "Index(['addi_fm_cnt', 'title', 'description'], dtype='object')"
      ]
     },
     "execution_count": 9,
     "metadata": {},
     "output_type": "execute_result"
    }
   ],
   "source": [
    "df_expanded.columns"
   ]
  },
  {
   "cell_type": "code",
   "execution_count": 10,
   "id": "b6964144",
   "metadata": {},
   "outputs": [],
   "source": [
    "df_expanded = df_expanded[['title', 'description']]"
   ]
  },
  {
   "cell_type": "code",
   "execution_count": null,
   "id": "87f1235c",
   "metadata": {},
   "outputs": [],
   "source": []
  },
  {
   "cell_type": "code",
   "execution_count": 11,
   "id": "e1259d93",
   "metadata": {},
   "outputs": [],
   "source": [
    "df_expanded.to_csv(\"summary/addtional_fm.csv\", index=False)"
   ]
  },
  {
   "cell_type": "code",
   "execution_count": 12,
   "id": "b748eae3",
   "metadata": {},
   "outputs": [
    {
     "data": {
      "text/plain": [
       "title\n",
       "Ineffective Error Recovery                  14\n",
       "Inadequate Error Recovery                    6\n",
       "Inadequate Error Recovery Strategy           5\n",
       "Insufficient Error Recovery                  5\n",
       "Lack of Error Recovery Strategy              5\n",
       "                                            ..\n",
       "Answer Formatting Artifact                   1\n",
       "Redundant Final Answer Generation            1\n",
       "Failure to Handle Missing Data Robustly      1\n",
       "Failure to Suggest User Remediation          1\n",
       "Lack of Escalation or Assistance Request     1\n",
       "Name: count, Length: 449, dtype: int64"
      ]
     },
     "execution_count": 12,
     "metadata": {},
     "output_type": "execute_result"
    }
   ],
   "source": [
    "df_expanded['title'].value_counts()\n"
   ]
  },
  {
   "cell_type": "code",
   "execution_count": 13,
   "id": "c5f081ca",
   "metadata": {},
   "outputs": [],
   "source": [
    "df_new_fm_group = df_expanded.copy(deep=True)"
   ]
  },
  {
   "cell_type": "code",
   "execution_count": 14,
   "id": "57254f44",
   "metadata": {},
   "outputs": [],
   "source": [
    "import numpy as np\n",
    "from sklearn.cluster import KMeans\n",
    "from sklearn.metrics import silhouette_score\n",
    "from sklearn.metrics.pairwise import euclidean_distances\n",
    "from sentence_transformers import SentenceTransformer\n",
    "import matplotlib.pyplot as plt\n",
    "\n"
   ]
  },
  {
   "cell_type": "code",
   "execution_count": 15,
   "id": "9c785d05",
   "metadata": {},
   "outputs": [
    {
     "data": {
      "application/vnd.jupyter.widget-view+json": {
       "model_id": "b50c850d6ee743f8a0f4f7695c434cb1",
       "version_major": 2,
       "version_minor": 0
      },
      "text/plain": [
       "README.md:   0%|          | 0.00/10.5k [00:00<?, ?B/s]"
      ]
     },
     "metadata": {},
     "output_type": "display_data"
    },
    {
     "name": "stderr",
     "output_type": "stream",
     "text": [
      "huggingface/tokenizers: The current process just got forked, after parallelism has already been used. Disabling parallelism to avoid deadlocks...\n",
      "To disable this warning, you can either:\n",
      "\t- Avoid using `tokenizers` before the fork if possible\n",
      "\t- Explicitly set the environment variable TOKENIZERS_PARALLELISM=(true | false)\n"
     ]
    },
    {
     "data": {
      "image/png": "[encoded data removed]",
      "text/plain": [
       "<Figure size 640x480 with 1 Axes>"
      ]
     },
     "metadata": {},
     "output_type": "display_data"
    },
    {
     "name": "stdout",
     "output_type": "stream",
     "text": [
      "\n",
      "Optimal number of clusters: 6\n"
     ]
    }
   ],
   "source": [
    "\n",
    "# Step 2: Embed the titles\n",
    "model = SentenceTransformer('all-MiniLM-L6-v2')\n",
    "embeddings = model.encode(df_new_fm_group['title'].tolist())\n",
    "\n",
    "# Step 3: Determine optimal number of clusters using silhouette scores\n",
    "range_n_clusters = list(range(2, 8))\n",
    "silhouette_scores = []\n",
    "\n",
    "for n_clusters in range_n_clusters:\n",
    "    kmeans = KMeans(n_clusters=n_clusters, random_state=42, n_init='auto')\n",
    "    labels = kmeans.fit_predict(embeddings)\n",
    "    sil_score = silhouette_score(embeddings, labels)\n",
    "    silhouette_scores.append(sil_score)\n",
    "\n",
    "# Step 4: Plot silhouette scores\n",
    "plt.plot(range_n_clusters, silhouette_scores, marker='o')\n",
    "plt.xlabel('Number of Clusters')\n",
    "plt.ylabel('Silhouette Score')\n",
    "plt.title('Optimal Number of Clusters')\n",
    "plt.grid(True)\n",
    "plt.show()\n",
    "\n",
    "# Step 5: Use the best cluster count\n",
    "optimal_clusters = range_n_clusters[np.argmax(silhouette_scores)]\n",
    "print(f\"\\nOptimal number of clusters: {optimal_clusters}\")\n",
    "\n",
    "# Step 6: Final clustering\n",
    "kmeans = KMeans(n_clusters=optimal_clusters, random_state=42, n_init='auto')\n",
    "df_new_fm_group['cluster'] = kmeans.fit_predict(embeddings)\n",
    "\n",
    "# Step 7: Find representative title for each cluster\n",
    "representative_titles = []\n",
    "\n",
    "for cluster_id in range(optimal_clusters):\n",
    "    cluster_indices = df_new_fm_group[df_new_fm_group['cluster'] == cluster_id].index\n",
    "    cluster_embeddings = embeddings[cluster_indices]\n",
    "    cluster_center = kmeans.cluster_centers_[cluster_id]\n",
    "\n",
    "    distances = euclidean_distances(cluster_embeddings, [cluster_center]).flatten()\n",
    "    closest_index = cluster_indices[np.argmin(distances)]\n",
    "    representative_title = df_new_fm_group.loc[closest_index, 'title']\n",
    "    representative_titles.append((cluster_id, representative_title))\n",
    "\n"
   ]
  },
  {
   "cell_type": "code",
   "execution_count": 16,
   "id": "ff8e75d6",
   "metadata": {},
   "outputs": [
    {
     "name": "stdout",
     "output_type": "stream",
     "text": [
      "\n",
      "Optimal number of clusters: 6\n"
     ]
    }
   ],
   "source": [
    "# Step 5: Use the best cluster count\n",
    "optimal_clusters = range_n_clusters[np.argmax(silhouette_scores)]\n",
    "print(f\"\\nOptimal number of clusters: {optimal_clusters}\")\n",
    "\n",
    "# Step 6: Final clustering\n",
    "kmeans = KMeans(n_clusters=optimal_clusters, random_state=42, n_init='auto')\n",
    "df_new_fm_group['cluster'] = kmeans.fit_predict(embeddings)\n",
    "\n",
    "# Step 7: Find representative title for each cluster\n",
    "representative_titles = []\n",
    "\n",
    "for cluster_id in range(optimal_clusters):\n",
    "    cluster_indices = df_new_fm_group[df_new_fm_group['cluster'] == cluster_id].index\n",
    "    cluster_embeddings = embeddings[cluster_indices]\n",
    "    cluster_center = kmeans.cluster_centers_[cluster_id]\n",
    "\n",
    "    distances = euclidean_distances(cluster_embeddings, [cluster_center]).flatten()\n",
    "    closest_index = cluster_indices[np.argmin(distances)]\n",
    "    representative_title = df_new_fm_group.loc[closest_index, 'title']\n",
    "    representative_titles.append((cluster_id, representative_title))"
   ]
  },
  {
   "cell_type": "code",
   "execution_count": 17,
   "id": "a7042e39",
   "metadata": {},
   "outputs": [
    {
     "name": "stdout",
     "output_type": "stream",
     "text": [
      "\n",
      "Representative titles for each cluster:\n",
      "Cluster 0: Lack of Error Handling for Tool Failure\n",
      "Cluster 1: Failure to Incorporate Feedback\n",
      "Cluster 2: Invalid Action Formatting\n",
      "Cluster 3: Overstatement of Task Completion\n",
      "Cluster 4: Extraneous Output/Confusing Output Formatting\n",
      "Cluster 5: Ineffective Error Recovery\n"
     ]
    }
   ],
   "source": [
    "# Step 8: Print representative titles\n",
    "print(\"\\nRepresentative titles for each cluster:\")\n",
    "for cluster_id, title in representative_titles:\n",
    "    print(f\"Cluster {cluster_id}: {title}\")"
   ]
  },
  {
   "cell_type": "code",
   "execution_count": 19,
   "id": "f686a08d",
   "metadata": {},
   "outputs": [],
   "source": [
    "# Step 8: Assign representative title as 'failure mode' for each row\n",
    "cluster_to_title = {cluster_id: title for cluster_id, title in representative_titles}\n",
    "df_new_fm_group['failure mode'] = df_new_fm_group['cluster'].map(cluster_to_title)\n"
   ]
  },
  {
   "cell_type": "code",
   "execution_count": 20,
   "id": "709f2de5",
   "metadata": {},
   "outputs": [
    {
     "data": {
      "text/html": [
       "<div>\n",
       "<style scoped>\n",
       "    .dataframe tbody tr th:only-of-type {\n",
       "        vertical-align: middle;\n",
       "    }\n",
       "\n",
       "    .dataframe tbody tr th {\n",
       "        vertical-align: top;\n",
       "    }\n",
       "\n",
       "    .dataframe thead th {\n",
       "        text-align: right;\n",
       "    }\n",
       "</style>\n",
       "<table border=\"1\" class=\"dataframe\">\n",
       "  <thead>\n",
       "    <tr style=\"text-align: right;\">\n",
       "      <th></th>\n",
       "      <th>title</th>\n",
       "      <th>description</th>\n",
       "      <th>cluster</th>\n",
       "      <th>failure mode</th>\n",
       "    </tr>\n",
       "  </thead>\n",
       "  <tbody>\n",
       "    <tr>\n",
       "      <th>0</th>\n",
       "      <td>Repeated Invalid Action Execution</td>\n",
       "      <td>The agent persistently and unsuccessfully executed the same invalid 'Finish[answer]' action multiple times despite explicit feedback about its invalidity, indicating a lack of corrective behavior mechanism to recover from action selection errors.</td>\n",
       "      <td>2</td>\n",
       "      <td>Invalid Action Formatting</td>\n",
       "    </tr>\n",
       "    <tr>\n",
       "      <th>1</th>\n",
       "      <td>Specification Hallucination</td>\n",
       "      <td>The agent listed failure modes as detectable by specified sensors without cross-verifying with the relevancy mapping, leading to incorrect inclusions in its final answer.</td>\n",
       "      <td>3</td>\n",
       "      <td>Overstatement of Task Completion</td>\n",
       "    </tr>\n",
       "    <tr>\n",
       "      <th>2</th>\n",
       "      <td>Ineffective Remediation Loop</td>\n",
       "      <td>Despite receiving direct feedback and suggestions after every attempt, the agent repeats the same ineffective action, indicating a lack of adaptive remediation to past failure.</td>\n",
       "      <td>5</td>\n",
       "      <td>Ineffective Error Recovery</td>\n",
       "    </tr>\n",
       "    <tr>\n",
       "      <th>3</th>\n",
       "      <td>Inadequate Fallback Reasoning</td>\n",
       "      <td>When the tools failed, the agent did not adequately default to self-ask and logical deduction, instead returning generic content and not addressing the asset-specific sensor/failure mode mapping as required.</td>\n",
       "      <td>3</td>\n",
       "      <td>Overstatement of Task Completion</td>\n",
       "    </tr>\n",
       "    <tr>\n",
       "      <th>4</th>\n",
       "      <td>Omitted Stepwise Transparency</td>\n",
       "      <td>The agent failed to explicitly walk through the manual filtering process, skipping step-by-step reasoning, which made it difficult to verify or understand how the result was achieved.</td>\n",
       "      <td>3</td>\n",
       "      <td>Overstatement of Task Completion</td>\n",
       "    </tr>\n",
       "    <tr>\n",
       "      <th>...</th>\n",
       "      <td>...</td>\n",
       "      <td>...</td>\n",
       "      <td>...</td>\n",
       "      <td>...</td>\n",
       "    </tr>\n",
       "    <tr>\n",
       "      <th>508</th>\n",
       "      <td>Repetitive Error Handling without Escalation</td>\n",
       "      <td>The agent persistently retries the same failing action (accessing a non-existent file) without altering its approach, attempting recovery, or providing helpful guidance to the user.</td>\n",
       "      <td>5</td>\n",
       "      <td>Ineffective Error Recovery</td>\n",
       "    </tr>\n",
       "    <tr>\n",
       "      <th>509</th>\n",
       "      <td>Lack of User-Facing Error Explanation</td>\n",
       "      <td>Despite multiple failures, the agent does not provide a clear, user-facing summary of the problem or request for user intervention, impeding resolution and transparency.</td>\n",
       "      <td>5</td>\n",
       "      <td>Ineffective Error Recovery</td>\n",
       "    </tr>\n",
       "    <tr>\n",
       "      <th>510</th>\n",
       "      <td>Ineffective Error Recovery</td>\n",
       "      <td>Despite identification of errors (e.g., missing or erroneous parameters), the agent persistently retries without substantial changes or escalation to alternative strategies such as seeking help or generating error reports.</td>\n",
       "      <td>5</td>\n",
       "      <td>Ineffective Error Recovery</td>\n",
       "    </tr>\n",
       "    <tr>\n",
       "      <th>511</th>\n",
       "      <td>Lack of Escalation or Assistance Request</td>\n",
       "      <td>The agent fails to escalate the issue or request human intervention after repeated failures, as suggested in the agent's own review feedback, resulting in an unproductive loop.</td>\n",
       "      <td>3</td>\n",
       "      <td>Overstatement of Task Completion</td>\n",
       "    </tr>\n",
       "    <tr>\n",
       "      <th>512</th>\n",
       "      <td>Unproductive Error Loop</td>\n",
       "      <td>The agent repeatedly attempts the same failing action (reading a missing file) without adapting strategy or escalating error handling, resulting in wasted cycles.</td>\n",
       "      <td>5</td>\n",
       "      <td>Ineffective Error Recovery</td>\n",
       "    </tr>\n",
       "  </tbody>\n",
       "</table>\n",
       "<p>513 rows × 4 columns</p>\n",
       "</div>"
      ],
      "text/plain": [
       "                                            title  \\\n",
       "0               Repeated Invalid Action Execution   \n",
       "1                     Specification Hallucination   \n",
       "2                    Ineffective Remediation Loop   \n",
       "3                   Inadequate Fallback Reasoning   \n",
       "4                   Omitted Stepwise Transparency   \n",
       "..                                            ...   \n",
       "508  Repetitive Error Handling without Escalation   \n",
       "509         Lack of User-Facing Error Explanation   \n",
       "510                    Ineffective Error Recovery   \n",
       "511      Lack of Escalation or Assistance Request   \n",
       "512                       Unproductive Error Loop   \n",
       "\n",
       "                                                                                                                                                                                                                                                description  \\\n",
       "0    The agent persistently and unsuccessfully executed the same invalid 'Finish[answer]' action multiple times despite explicit feedback about its invalidity, indicating a lack of corrective behavior mechanism to recover from action selection errors.   \n",
       "1                                                                                The agent listed failure modes as detectable by specified sensors without cross-verifying with the relevancy mapping, leading to incorrect inclusions in its final answer.   \n",
       "2                                                                          Despite receiving direct feedback and suggestions after every attempt, the agent repeats the same ineffective action, indicating a lack of adaptive remediation to past failure.   \n",
       "3                                           When the tools failed, the agent did not adequately default to self-ask and logical deduction, instead returning generic content and not addressing the asset-specific sensor/failure mode mapping as required.   \n",
       "4                                                                   The agent failed to explicitly walk through the manual filtering process, skipping step-by-step reasoning, which made it difficult to verify or understand how the result was achieved.   \n",
       "..                                                                                                                                                                                                                                                      ...   \n",
       "508                                                                   The agent persistently retries the same failing action (accessing a non-existent file) without altering its approach, attempting recovery, or providing helpful guidance to the user.   \n",
       "509                                                                               Despite multiple failures, the agent does not provide a clear, user-facing summary of the problem or request for user intervention, impeding resolution and transparency.   \n",
       "510                          Despite identification of errors (e.g., missing or erroneous parameters), the agent persistently retries without substantial changes or escalation to alternative strategies such as seeking help or generating error reports.   \n",
       "511                                                                        The agent fails to escalate the issue or request human intervention after repeated failures, as suggested in the agent's own review feedback, resulting in an unproductive loop.   \n",
       "512                                                                                      The agent repeatedly attempts the same failing action (reading a missing file) without adapting strategy or escalating error handling, resulting in wasted cycles.   \n",
       "\n",
       "     cluster                      failure mode  \n",
       "0          2         Invalid Action Formatting  \n",
       "1          3  Overstatement of Task Completion  \n",
       "2          5        Ineffective Error Recovery  \n",
       "3          3  Overstatement of Task Completion  \n",
       "4          3  Overstatement of Task Completion  \n",
       "..       ...                               ...  \n",
       "508        5        Ineffective Error Recovery  \n",
       "509        5        Ineffective Error Recovery  \n",
       "510        5        Ineffective Error Recovery  \n",
       "511        3  Overstatement of Task Completion  \n",
       "512        5        Ineffective Error Recovery  \n",
       "\n",
       "[513 rows x 4 columns]"
      ]
     },
     "execution_count": 20,
     "metadata": {},
     "output_type": "execute_result"
    }
   ],
   "source": [
    "df_new_fm_group"
   ]
  },
  {
   "cell_type": "code",
   "execution_count": 32,
   "id": "644866ef",
   "metadata": {},
   "outputs": [
    {
     "data": {
      "text/plain": [
       "failure mode\n",
       "Ineffective Error Recovery                       160\n",
       "Overstatement of Task Completion                 122\n",
       "Extraneous Output/Confusing Output Formatting    110\n",
       "Lack of Error Handling for Tool Failure           53\n",
       "Failure to Incorporate Feedback                   41\n",
       "Invalid Action Formatting                         27\n",
       "Name: count, dtype: int64"
      ]
     },
     "execution_count": 32,
     "metadata": {},
     "output_type": "execute_result"
    }
   ],
   "source": [
    "df_new_fm_group['failure mode'].value_counts()\n"
   ]
  },
  {
   "cell_type": "code",
   "execution_count": 27,
   "id": "d7846b21",
   "metadata": {},
   "outputs": [],
   "source": [
    "df_new_fm_group = df_new_fm_group[['cluster', 'failure mode','title', 'description']]"
   ]
  },
  {
   "cell_type": "code",
   "execution_count": 28,
   "id": "3de5de1d",
   "metadata": {},
   "outputs": [],
   "source": [
    "# Step 9: Save clustered data to CSV\n",
    "df_new_fm_group.to_csv(\"summary/additional_fm_clustered.csv\", index=False)\n"
   ]
  }
 ],
 "metadata": {
  "kernelspec": {
   "display_name": "agenticfram",
   "language": "python",
   "name": "python3"
  },
  "language_info": {
   "codemirror_mode": {
    "name": "ipython",
    "version": 3
   },
   "file_extension": ".py",
   "mimetype": "text/x-python",
   "name": "python",
   "nbconvert_exporter": "python",
   "pygments_lexer": "ipython3",
   "version": "3.11.9"
  }
 },
 "nbformat": 4,
 "nbformat_minor": 5
}
